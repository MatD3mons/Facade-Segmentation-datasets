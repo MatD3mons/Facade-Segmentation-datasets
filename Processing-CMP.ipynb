{
 "cells": [
  {
   "cell_type": "code",
   "execution_count": 5,
   "metadata": {},
   "outputs": [],
   "source": [
    "from tqdm import tqdm\n",
    "from pathlib import Path\n",
    "\n",
    "import numpy as np\n",
    "import pandas as pd\n",
    "import json\n",
    "from PIL import Image, ImageOps\n",
    "from tqdm import tqdm\n",
    "import glob\n",
    "import shutil"
   ]
  },
  {
   "cell_type": "code",
   "execution_count": 14,
   "metadata": {},
   "outputs": [],
   "source": [
    "#TODO add \n",
    "import os\n",
    "\n",
    "paths = ['CMP',\n",
    "         'CMP/train',\n",
    "         'CMP/train/images',\n",
    "         'CMP/train/labels',\n",
    "        'CMP/valid',\n",
    "         'CMP/valid/images',\n",
    "         'CMP/valid/labels',]\n",
    "\n",
    "for path in paths:\n",
    "    if not os.path.exists(path):\n",
    "        os.mkdir(path)"
   ]
  },
  {
   "cell_type": "code",
   "execution_count": 15,
   "metadata": {},
   "outputs": [],
   "source": [
    "def resize_with_padding(img, expected_size):\n",
    "    width, height = img.size\n",
    "    ratio = width / height\n",
    "    if width < height:\n",
    "        img = img.resize((int(ratio*expected_size[0]),int(expected_size[0])))\n",
    "    else:\n",
    "        img = img.resize((int(expected_size[1]),int((1/ratio)*expected_size[1])))\n",
    "        \n",
    "    img.thumbnail((expected_size[0], expected_size[1]))\n",
    "    delta_width = expected_size[0] - img.size[0]\n",
    "    delta_height = expected_size[1] - img.size[1]\n",
    "    pad_width = delta_width // 2\n",
    "    pad_height = delta_height // 2\n",
    "    padding = (pad_width, pad_height, delta_width - pad_width, delta_height - pad_height)\n",
    "    return ImageOps.expand(img, padding)"
   ]
  },
  {
   "cell_type": "code",
   "execution_count": 16,
   "metadata": {},
   "outputs": [
    {
     "name": "stderr",
     "output_type": "stream",
     "text": [
      "100%|██████████| 378/378 [00:59<00:00,  6.34it/s]\n"
     ]
    }
   ],
   "source": [
    "i = 0\n",
    "for image in tqdm(glob.glob('CMP/base/*.jpg')):\n",
    "            image = Image.open(image)\n",
    "            #Padding for (x,x)\n",
    "            img = resize_with_padding(image, (640,640)) \n",
    "            #Save image\n",
    "            img.save('CMP/train/images/'+str(i)+'.png')\n",
    "            i += 1"
   ]
  },
  {
   "cell_type": "code",
   "execution_count": 17,
   "metadata": {},
   "outputs": [
    {
     "name": "stderr",
     "output_type": "stream",
     "text": [
      "  0%|          | 0/378 [00:00<?, ?it/s]"
     ]
    },
    {
     "name": "stderr",
     "output_type": "stream",
     "text": [
      "100%|██████████| 378/378 [00:02<00:00, 133.08it/s]\n"
     ]
    }
   ],
   "source": [
    "i = 0\n",
    "for image in tqdm(glob.glob('CMP/base/*.png')):\n",
    "            image = Image.open(image)\n",
    "            #Padding for (x,x)\n",
    "            img = resize_with_padding(image, (640,640)) \n",
    "            #print(np.unique(np.array(img)))\n",
    "            #Save image\n",
    "            img.save('CMP/train/labels/'+str(i)+'.png')\n",
    "            \n",
    "            i += 1"
   ]
  },
  {
   "cell_type": "code",
   "execution_count": 20,
   "metadata": {},
   "outputs": [
    {
     "name": "stderr",
     "output_type": "stream",
     "text": [
      "  0%|          | 0/228 [00:00<?, ?it/s]"
     ]
    },
    {
     "name": "stderr",
     "output_type": "stream",
     "text": [
      "100%|██████████| 228/228 [00:29<00:00,  7.81it/s]\n"
     ]
    }
   ],
   "source": [
    "i = 0\n",
    "for image in tqdm(glob.glob('CMP_extended/extended/*.jpg')):\n",
    "            image = Image.open(image)\n",
    "            #Padding for (x,x)\n",
    "            img = resize_with_padding(image, (640,640)) \n",
    "            #Save image\n",
    "            img.save('CMP/valid/images/'+str(i)+'.png')\n",
    "            i += 1"
   ]
  },
  {
   "cell_type": "code",
   "execution_count": 21,
   "metadata": {},
   "outputs": [
    {
     "name": "stderr",
     "output_type": "stream",
     "text": [
      "100%|██████████| 228/228 [00:02<00:00, 77.46it/s]\n"
     ]
    }
   ],
   "source": [
    "i = 0\n",
    "for image in tqdm(glob.glob('CMP_extended/extended/*.png')):\n",
    "            image = Image.open(image)\n",
    "            #Padding for (x,x)\n",
    "            img = resize_with_padding(image, (640,640)) \n",
    "            #print(np.unique(np.array(img)))\n",
    "            #Save image\n",
    "            img.save('CMP/valid/labels/'+str(i)+'.png')\n",
    "            \n",
    "            i += 1"
   ]
  },
  {
   "cell_type": "code",
   "execution_count": null,
   "metadata": {},
   "outputs": [],
   "source": []
  }
 ],
 "metadata": {
  "kernelspec": {
   "display_name": "Python 3",
   "language": "python",
   "name": "python3"
  },
  "language_info": {
   "codemirror_mode": {
    "name": "ipython",
    "version": 3
   },
   "file_extension": ".py",
   "mimetype": "text/x-python",
   "name": "python",
   "nbconvert_exporter": "python",
   "pygments_lexer": "ipython3",
   "version": "3.10.11"
  }
 },
 "nbformat": 4,
 "nbformat_minor": 2
}
